{
 "cells": [
  {
   "cell_type": "code",
   "execution_count": 1,
   "metadata": {},
   "outputs": [],
   "source": [
    "import re\n",
    "import string\n",
    "from nltk.tokenize import WhitespaceTokenizer "
   ]
  },
  {
   "cell_type": "code",
   "execution_count": 2,
   "metadata": {},
   "outputs": [],
   "source": [
    "white_space_tokenizer = WhitespaceTokenizer()"
   ]
  },
  {
   "cell_type": "code",
   "execution_count": 3,
   "metadata": {},
   "outputs": [],
   "source": [
    "file_name_40_sentences = \"sample_sentences.txt\"\n",
    "\n",
    "file_name_dictionary = \"Viet74K.txt\""
   ]
  },
  {
   "cell_type": "markdown",
   "metadata": {},
   "source": [
    "**Load data**"
   ]
  },
  {
   "cell_type": "code",
   "execution_count": 4,
   "metadata": {},
   "outputs": [
    {
     "name": "stdout",
     "output_type": "stream",
     "text": [
      "Number of senteces in data: 40\n"
     ]
    }
   ],
   "source": [
    "sentences = list()\n",
    "\n",
    "with open(file_name_40_sentences, \"r\", encoding='utf-8') as f:\n",
    "    content = f.readlines()\n",
    "    f.close()\n",
    "\n",
    "    for i in range(len(content)):\n",
    "        sentence = content[i].strip()\n",
    "        sentences.append(sentence)\n",
    "        \n",
    "print(\"Number of senteces in data:\", len(sentences))"
   ]
  },
  {
   "cell_type": "markdown",
   "metadata": {},
   "source": [
    "**Load dictionary: Vietnamese**"
   ]
  },
  {
   "cell_type": "code",
   "execution_count": 5,
   "metadata": {},
   "outputs": [
    {
     "name": "stdout",
     "output_type": "stream",
     "text": [
      "Number of terms in dictionary: 73901\n"
     ]
    }
   ],
   "source": [
    "dictionary_corpus = list()\n",
    "\n",
    "with open(file_name_dictionary, \"r\", encoding='utf-8') as f:\n",
    "    content = f.readlines()\n",
    "    f.close()\n",
    "\n",
    "    for i in range(len(content)):\n",
    "        term = content[i].strip().lower()\n",
    "        dictionary_corpus.append(term)\n",
    "        \n",
    "dictionary_corpus\n",
    "\n",
    "print(\"Number of terms in dictionary:\", len(dictionary_corpus))"
   ]
  },
  {
   "cell_type": "markdown",
   "metadata": {},
   "source": [
    "**Maximum Matching**"
   ]
  },
  {
   "cell_type": "code",
   "execution_count": 6,
   "metadata": {},
   "outputs": [],
   "source": [
    "def PreprocessString(string_data):\n",
    "    # Lower the text\n",
    "    preprocess_data = string_data.lower()\n",
    "    \n",
    "    # Remove punctuations, each punctuation = space, ex: \"\"information @#$retrieval\" -> \"information    retrieval\"\n",
    "    preprocess_data = re.sub('[%s]' % re.escape(string.punctuation), ' ', preprocess_data)   \n",
    "        \n",
    "    # Tokenize word by white space\n",
    "    preprocess_data = white_space_tokenizer.tokenize(preprocess_data)\n",
    "      \n",
    "    return preprocess_data"
   ]
  },
  {
   "cell_type": "code",
   "execution_count": 7,
   "metadata": {},
   "outputs": [],
   "source": [
    "def GetTerm(sentence_tokenized, start_index, end_index):\n",
    "    term = \"\"\n",
    "    for i in range(start_index, end_index):\n",
    "        term += sentence_tokenized[i] + \" \"\n",
    "    \n",
    "    return term.strip()"
   ]
  },
  {
   "cell_type": "code",
   "execution_count": 8,
   "metadata": {},
   "outputs": [],
   "source": [
    "LENGTH_MAX_TERM_VIETNAMESE = 4\n",
    "LENGTH_MAX_TERM = LENGTH_MAX_TERM_VIETNAMESE\n",
    "\n",
    "sentences_tokenized = dict()\n",
    "\n",
    "for ith_sentence, sentence in enumerate(sentences):\n",
    "    \"\"\" Hiện tại thì chỗ này xét cả câu luôn, về sau sẽ nâng cấp lên thành xét các vế trong câu \"\"\"\n",
    "    sentence_part_tokenzied = PreprocessString(sentence)\n",
    "    \n",
    "    ith_start_term = 0\n",
    "    if len(sentence_part_tokenzied) > LENGTH_MAX_TERM:\n",
    "        ith_end_term = ith_start_term + LENGTH_MAX_TERM\n",
    "    else:\n",
    "        ith_end_term = len(sentence_part_tokenzied)\n",
    "        \n",
    "    term = GetTerm(sentence_part_tokenzied, ith_start_term, ith_end_term)\n",
    "    \n",
    "    # Xét hết cả vế\n",
    "    while True:\n",
    "        \n",
    "        # Xét hết cả term\n",
    "        while ith_start_term != ith_end_term:\n",
    "            if term in dictionary_corpus:\n",
    "                \n",
    "                if ith_sentence not in sentences_tokenized.keys():\n",
    "                    sentences_tokenized[ith_sentence] = [term]\n",
    "                else:\n",
    "                    sentences_tokenized[ith_sentence].append(term)\n",
    "#                 print(\"Trùng được term:\", term)\n",
    "                    \n",
    "                break\n",
    "            else:\n",
    "#                 print(\"không trùng term nào cả, term:\", term)\n",
    "                ith_end_term -= 1\n",
    "                term = GetTerm(sentence_part_tokenzied, ith_start_term, ith_end_term)\n",
    "\n",
    "        # Đã xét xong term cuối cùng thì chuyển sang câu (vế) khác\n",
    "        if ith_end_term == len(sentence_part_tokenzied):\n",
    "            break\n",
    "        # Nếu vẫn còn term để xét thì chuyển sang term kế tiếp\n",
    "        else:\n",
    "            # Đề phòng trường hợp term không có trong dictionary thì end sẽ tiến về và bằng start, và sẽ gây ra vòng lặp vô tận\n",
    "            # nếu cứ gắn start bằng lại end (giá trị start ban đầu) và cộng end = start + LEN_MAX_TERM_VIETNAMESE\n",
    "            # vd: term = \"2 mũi vaccine cơ\", start = 16, end = 20, chữ \"2\" không có trong dictionary nên sẽ khiến end bị trừ\n",
    "            # thành 16 (bằng với start), và nếu không có điều kiện kiểm tra \"ith_start_term == ith_end_term\" thì sẽ khiến\n",
    "            # start và end trở lại như cũ (16 và 20), vì ở đây gán start = end và đoạn bên dưới gán end = start + LEN_MAX_TERM_VIETNAMESE\n",
    "            # Nên mới phải cần thêm term không có trong dictionary vào trong danh sách các term của từng văn bản (câu)\n",
    "            # Và chuyển sang so khớp term kế tiếp\n",
    "            if ith_start_term == ith_end_term:\n",
    "                term = GetTerm(sentence_part_tokenzied, ith_start_term, ith_start_term+1)\n",
    "                if ith_sentence not in sentences_tokenized.keys():\n",
    "                    sentences_tokenized[ith_sentence] = [term]\n",
    "                else:\n",
    "                    sentences_tokenized[ith_sentence].append(term)\n",
    "                \n",
    "                ith_start_term = ith_end_term + 1\n",
    "            else:\n",
    "                ith_start_term = ith_end_term\n",
    "                \n",
    "            # Nếu vẫn còn nhiều hơn 4 term để xét thì chuyển sang 4 term kế tiếp\n",
    "            if len(sentence_part_tokenzied) - ith_end_term > LENGTH_MAX_TERM:\n",
    "                ith_end_term = ith_start_term + LENGTH_MAX_TERM\n",
    "            # Nếu chỉ còn nhiều nhất là 4 term thì lấy ra những term cuối cùng của vế để xét\n",
    "            else:\n",
    "                ith_end_term = len(sentence_part_tokenzied)\n",
    "                \n",
    "            term = GetTerm(sentence_part_tokenzied, ith_start_term, ith_end_term)"
   ]
  },
  {
   "cell_type": "code",
   "execution_count": 9,
   "metadata": {},
   "outputs": [
    {
     "name": "stdout",
     "output_type": "stream",
     "text": [
      "Ngày 16/11, thông tin từ Ban chỉ đạo phòng chống dịch Covid-19 huyện Hải Hậu, Nam Định đã ghi nhận tới 52 ca Covid-19 cộng đồng.\n",
      "['ngày', '16', '11', 'thông tin', 'từ', 'ban', 'chỉ đạo', 'phòng chống', 'dịch', 'covid', '19', 'huyện', 'hải', 'hậu', 'nam', 'định', 'đã', 'ghi nhận', 'tới', '52', 'ca', 'covid', '19', 'cộng đồng'] \n",
      "\n",
      "Đến nay, lực lượng chức năng đã xác định trên 600 F1 và hàng nghìn F2 liên quan nhóm bệnh nhân này.\n",
      "['đến nay', 'lực lượng', 'chức năng', 'đã', 'xác định', 'trên', '600', 'f1', 'và', 'hàng', 'nghìn', 'f2', 'liên quan', 'nhóm', 'bệnh nhân', 'này'] \n",
      "\n",
      "Dự báo, số F0 tại xã Hải Minh dự kiến sẽ còn gia tăng trong những ngày tới.\n",
      "['dự báo', 'số', 'f0', 'tại', 'xã', 'hải', 'minh', 'dự kiến', 'sẽ', 'còn', 'gia tăng', 'trong', 'những', 'ngày', 'tới'] \n",
      "\n",
      "Các bệnh nhân trú tại 3 xóm (xóm 34, 35 và xóm Gò). Đến nay, lực lượng chức năng đã xác định trên 600 F1 và hàng nghìn F2 liên quan nhóm bệnh nhân này.\n",
      "['các', 'bệnh nhân', 'trú', 'tại', '3', 'xóm', 'xóm', '34', '35', 'và', 'xóm', 'gò', 'đến nay', 'lực lượng', 'chức năng', 'đã', 'xác định', 'trên', '600', 'f1', 'và', 'hàng', 'nghìn', 'f2', 'liên quan', 'nhóm', 'bệnh nhân', 'này'] \n",
      "\n",
      "Ông Nguyễn Ngọc Toàn, Tổng Biên tập Báo Thanh Niên, trao thiết bị hỗ trợ học tập và gửi gắm nhiều niềm hy vọng cho các em sẽ gặt hái được nhiều thành công học tập\n",
      "['ông', 'nguyễn', 'ngọc', 'toàn', 'tổng biên tập', 'báo', 'thanh niên', 'trao', 'thiết bị', 'hỗ trợ', 'học tập', 'và', 'gửi gắm', 'nhiều', 'niềm', 'hy vọng', 'cho', 'các', 'em', 'sẽ', 'gặt hái', 'được', 'nhiều', 'thành công', 'học tập'] \n",
      "\n",
      "24 học sinh nhận thiết bị hỗ trợ từ chương trình là 24 hoàn cảnh khó khăn khác nhau nhưng cùng chung ước muốn được học trực tuyến cùng thầy cô và bạn bè\n",
      "['24', 'học sinh', 'nhận', 'thiết bị', 'hỗ trợ', 'từ chương', 'trình', 'là', '24', 'hoàn cảnh', 'khó khăn', 'khác nhau', 'nhưng', 'cùng chung', 'ước muốn', 'được', 'học', 'trực tuyến', 'cùng', 'thầy cô', 'và', 'bạn bè'] \n",
      "\n",
      "Hay đó là Bùi Gia Phúc, học sinh lớp 4/5 Trường Tiểu học Trần Văn Ơn, ở với ông bà nội ngay khi mới chỉ một tháng tuổi.\n",
      "['hay', 'đó', 'là', 'bùi', 'gia', 'phúc', 'học sinh', 'lớp', '4', '5', 'trường', 'tiểu học', 'trần', 'văn', 'ơn', 'ở', 'với', 'ông bà', 'nội', 'ngay', 'khi', 'mới', 'chỉ', 'một', 'tháng', 'tuổi'] \n",
      "\n",
      "Thông qua đó thêm một cơ hội để các em vượt qua khó khăn, thử thách, vươn lên đạt kết quả tốt nhất trong học tập, đóng góp cho tương lai.\n",
      "['thông qua', 'đó', 'thêm', 'một', 'cơ hội', 'để', 'các', 'em', 'vượt qua', 'khó khăn', 'thử thách', 'vươn', 'lên', 'đạt', 'kết quả', 'tốt', 'nhất', 'trong', 'học tập', 'đóng góp', 'cho', 'tương lai'] \n",
      "\n",
      "Chương trình sẽ là dịp để lan tỏa và san sẻ tình yêu thương trong đại dịch.\n",
      "['chương trình', 'sẽ', 'là', 'dịp', 'để', 'lan', 'tỏa', 'và', 'san sẻ', 'tình yêu', 'thương', 'trong', 'đại dịch'] \n",
      "\n",
      "Ông Nguyễn Xuân Tiến, Ủy viên Ban Thường vụ, Trưởng ban Tuyên giáo Quận ủy, trao máy tính bảng của chương trình cho học sinh\n",
      "['ông', 'nguyễn', 'xuân tiến', 'ủy', 'viên', 'ban', 'thường vụ', 'trưởng ban', 'tuyên giáo', 'quận ủy', 'trao', 'máy tính', 'bảng', 'của', 'chương trình', 'cho', 'học sinh'] \n",
      "\n",
      "Ông Nguyễn Văn Cường, Phó Giám đốc kinh doanh FPT Shop vùng TP.HCM, phát biểu tại chương trình\n",
      "['ông', 'nguyễn', 'văn', 'cường', 'phó giám đốc', 'kinh doanh', 'fpt', 'shop', 'vùng', 'tp', 'hcm', 'phát biểu', 'tại', 'chương trình'] \n",
      "\n",
      "Trong chuyến thăm biệt thự song lập mới hồi cuối tuần, Quốc Cơ ngẫu hứng diễn xiếc chồng tay với hai con tại tổ hợp quảng trường - bến du thuyền Aqua Marina.\n",
      "['trong', 'chuyến', 'thăm', 'biệt thự', 'song', 'lập', 'mới', 'hồi', 'cuối tuần', 'quốc', 'cơ', 'ngẫu hứng', 'diễn', 'xiếc', 'chồng', 'tay', 'với', 'hai', 'con', 'tại', 'tổ hợp', 'quảng trường', 'bến', 'du thuyền', 'aqua', 'marina'] \n",
      "\n",
      "Bé Bắp dạn dĩ hơn bạn bè cùng lứa nhờ được bố luyện xiếc từ khi chưa đầy một tuổi. Hồng Phượng và con gái hai tuổi vỗ tay cổ vũ hai bố con.\n",
      "['bé', 'bắp', 'dạn dĩ', 'hơn', 'bạn bè', 'cùng', 'lứa', 'nhờ', 'được', 'bố', 'luyện', 'xiếc', 'từ', 'khi', 'chưa', 'đầy', 'một', 'tuổi', 'hồng', 'phượng', 'và', 'con gái', 'hai', 'tuổi', 'vỗ tay', 'cổ vũ', 'hai', 'bố', 'con'] \n",
      "\n",
      "Quốc Cơ cho hay: \"Người hào hứng nhất là Bắp và Dâu. Sau bao ngày mới được đi chơi, mà còn được dạo chơi du thuyền rất mát mẻ, nên cả nhà rất thư giãn và thích thú\".\n",
      "['quốc', 'cơ', 'cho hay', 'người', 'hào hứng', 'nhất là', 'bắp', 'và', 'dâu', 'sau', 'bao', 'ngày', 'mới', 'được', 'đi chơi', 'mà còn', 'được', 'dạo chơi', 'du thuyền', 'rất', 'mát mẻ', 'nên', 'cả', 'nhà', 'rất', 'thư giãn', 'và', 'thích thú'] \n",
      "\n",
      "Đại dịch khiến cả hai chú trọng không gian sống nhiều hơn. Trước giãn cách, cả hai bận rộn công việc, chỉ về nhà khi chiều tối.\n",
      "['đại dịch', 'khiến', 'cả', 'hai', 'chú trọng', 'không gian', 'sống', 'nhiều', 'hơn', 'trước', 'giãn', 'cách', 'cả', 'hai', 'bận rộn', 'công việc', 'chỉ', 'về', 'nhà', 'khi', 'chiều tối'] \n",
      "\n",
      "Từ đó gia đình mới có thêm nhiều hoạt động gắn kết, nâng cao giá trị tinh thần cho cả gia đình\".\n",
      "['từ đó', 'gia đình', 'mới', 'có', 'thêm', 'nhiều', 'hoạt động', 'gắn kết', 'nâng cao', 'giá trị', 'tinh thần', 'cho', 'cả', 'gia đình'] \n",
      "\n",
      "Hồng Phượng nói khi ngắm chồng con chơi đùa ngoài khuôn viên biệt thự song lập đảo Phượng Hoàng.\n",
      "['hồng', 'phượng', 'nói', 'khi', 'ngắm', 'chồng con', 'chơi đùa', 'ngoài', 'khuôn viên', 'biệt thự', 'song', 'lập', 'đảo', 'phượng hoàng'] \n",
      "\n",
      "Tổ hợp quảng trường - bến du thuyền đậm chất châu Âu Aqua Marina là một trong những điểm ấn tượng nhất tại Aqua City\", Hồng Phượng nói.\n",
      "['tổ hợp', 'quảng trường', 'bến', 'du thuyền', 'đậm', 'chất', 'châu', 'âu', 'aqua', 'marina', 'là', 'một', 'trong', 'những', 'điểm', 'ấn tượng', 'nhất', 'tại', 'aqua', 'city', 'hồng', 'phượng', 'nói'] \n",
      "\n",
      "Chúng tôi cũng thích chuỗi cửa hàng F&B bao quanh, sau những ngày đi quay vất vả, cả nhà có thể cùng thưởng thức những món ngon giữa không gian xanh mát.\n",
      "['chúng tôi', 'cũng', 'thích', 'chuỗi', 'cửa hàng', 'f', 'b', 'bao quanh', 'sau', 'những', 'ngày', 'đi', 'quay', 'vất vả', 'cả', 'nhà có', 'thể', 'cùng', 'thưởng thức', 'những', 'món', 'ngon', 'giữa', 'không gian', 'xanh', 'mát'] \n",
      "\n",
      "Nếu đại gia đình về sống tại Aqua City, mỗi lần đi diễn xa, tôi rất yên tâm vì vợ con và bố mẹ có không gian sống thoải mái.\n",
      "['nếu', 'đại gia đình', 'về', 'sống', 'tại', 'aqua', 'city', 'mỗi', 'lần', 'đi', 'diễn', 'xa', 'tôi', 'rất', 'yên tâm', 'vì', 'vợ con', 'và', 'bố mẹ', 'có', 'không gian', 'sống', 'thoải mái'] \n",
      "\n",
      "Tháng 11, khách hàng có cơ hội tham quan trải nghiệm đô thị sinh thái thông minh Aqua City bằng đường sông.\n",
      "['tháng', '11', 'khách hàng', 'có cơ', 'hội', 'tham quan', 'trải nghiệm', 'đô thị', 'sinh thái', 'thông minh', 'aqua', 'city', 'bằng', 'đường sông'] \n",
      "\n",
      "khách hàng có cơ hội nhận cặp voucher định danh tổng trị giá 200 triệu đồng.\n",
      "['khách hàng', 'có cơ', 'hội', 'nhận', 'cặp', 'voucher', 'định danh', 'tổng', 'trị giá', '200', 'triệu', 'đồng'] \n",
      "\n",
      "Khoảng 14 giờ ngày 16.11, giá vàng SJC tăng thêm 400.000 đồng mỗi lượng so với mở cửa đầu ngày.\n",
      "['khoảng', '14', 'giờ', 'ngày', '16', '11', 'giá', 'vàng', 'sjc', 'tăng', 'thêm', '400', '000', 'đồng', 'mỗi', 'lượng', 'so với', 'mở cửa', 'đầu', 'ngày'] \n",
      "\n",
      "Ngân hàng TMCP xuất nhập khẩu Việt Nam (Eximbank) thay đổi giá 17 lần chỉ trong 5 giờ giao dịch\n",
      "['ngân hàng', 'tmcp', 'xuất nhập khẩu', 'việt', 'nam', 'eximbank', 'thay đổi', 'giá', '17', 'lần', 'chỉ', 'trong', '5', 'giờ', 'giao dịch'] \n",
      "\n",
      "Tốc độ tăng giá của vàng trong nước nhanh hơn so với quốc tế khiến giá SJC đắt hơn lên 10 triệu đồng/lượng\n",
      "['tốc độ', 'tăng giá', 'của', 'vàng', 'trong', 'nước', 'nhanh', 'hơn', 'so với', 'quốc tế', 'khiến', 'giá', 'sjc', 'đắt', 'hơn', 'lên', '10', 'triệu', 'đồng', 'lượng'] \n",
      "\n",
      "Nguyên nhân khiến vàng trong nước tăng mạnh, theo Eximbank là do lực mua vàng nhỏ lẻ trong ngày xuất hiện nhiều hơn so với bán ra.\n",
      "['nguyên nhân', 'khiến', 'vàng', 'trong', 'nước', 'tăng', 'mạnh', 'theo', 'eximbank', 'là', 'do', 'lực', 'mua', 'vàng', 'nhỏ', 'lẻ', 'trong', 'ngày', 'xuất hiện', 'nhiều', 'hơn', 'so với', 'bán', 'ra'] \n",
      "\n",
      "âm lý người mua lo ngại trước tình trạng tăng giá của vàng thế giới.\n",
      "['âm', 'lý', 'người', 'mua', 'lo ngại', 'trước', 'tình trạng', 'tăng giá', 'của', 'vàng', 'thế giới'] \n",
      "\n",
      "Thị trường không có tình trạng khan hiếm vàng, nếu được giá thì có người bán ra nhưng do các đơn vị kinh doanh phải cân đối được nguồn hàng nên giá hỏi qua hỏi lại cũng đã đẩy lên cao.\n",
      "['thị trường', 'không', 'có tình', 'trạng', 'khan hiếm', 'vàng', 'nếu', 'được giá', 'thì có', 'người', 'bán', 'ra', 'nhưng', 'do', 'các', 'đơn vị', 'kinh doanh', 'phải', 'cân đối', 'được', 'nguồn hàng', 'nên', 'giá', 'hỏi', 'qua', 'hỏi', 'lại', 'cũng', 'đã', 'đẩy', 'lên cao'] \n",
      "\n",
      "Chương trình đấu giá số đẹp đuôi 2011 đang khiến cộng đồng mạng vô cùng tò mò, xôn xao.\n",
      "['chương trình', 'đấu giá', 'số', 'đẹp', 'đuôi', '2011', 'đang', 'khiến', 'cộng đồng', 'mạng', 'vô cùng', 'tò mò', 'xôn xao'] \n",
      "\n",
      "Nhưng khi biết ý nghĩa ẩn sau đó,mọi người đều gật gù công nhận đây quả là món quà trân quý dành tặng thầy cô.\n",
      "['nhưng', 'khi', 'biết ý', 'nghĩa', 'ẩn', 'sau đó', 'mọi', 'người', 'đều', 'gật gù', 'công nhận', 'đây', 'quả là', 'món', 'quà', 'trân', 'quý', 'dành', 'tặng', 'thầy cô'] \n",
      "\n",
      "Đối với các vi phạm nhẹ, mức phạt từ 1 - 50 triệu đồng tùy từng mức độ. Riêng các vi phạm gây hậu quả rất nghiêm trọng hay đặc biệt nghiêm trọng, dự thảo này đưa ra mức phạt hàng trăm triệu đồng\n",
      "['đối với', 'các', 'vi phạm', 'nhẹ', 'mức', 'phạt', 'từ', '1', '50', 'triệu', 'đồng', 'tùy', 'từng', 'mức độ', 'riêng', 'các', 'vi phạm', 'gây', 'hậu quả', 'rất', 'nghiêm trọng', 'hay', 'đặc biệt', 'nghiêm trọng', 'dự thảo', 'này', 'đưa ra', 'mức', 'phạt', 'hàng', 'trăm', 'triệu', 'đồng'] \n",
      "\n",
      "Cụ thể, đối với hành vi cấp văn bằng, chứng chỉ không đúng tên ngành, nghề, hoặc ngành, nghề không được cấp trong giấy chứng nhận đăng ký hoạt động GDNN, giấy chứng nhận đăng ký hoạt động liên kết đào tạo với nước ngoài\n",
      "['cụ thể', 'đối với', 'hành vi', 'cấp', 'văn bằng', 'chứng chỉ', 'không', 'đúng', 'tên', 'ngành nghề', 'hoặc', 'ngành nghề', 'không', 'được', 'cấp', 'trong', 'giấy chứng nhận', 'đăng ký', 'hoạt động', 'gdnn', 'giấy chứng nhận', 'đăng ký', 'hoạt động', 'liên kết', 'đào tạo', 'với', 'nước ngoài'] \n",
      "\n",
      "Năm học này diễn ra trong bối cảnh dịch bệnh Covid-19 ảnh hưởng nghiêm trọng đến đời sống, mọi người dân phải oằn mình gánh chịu, thiệt hại về vật chất, tính mạng là vô cùng lớn\n",
      "['năm học', 'này', 'diễn', 'ra', 'trong', 'bối cảnh', 'dịch bệnh', 'covid', '19', 'ảnh hưởng', 'nghiêm trọng', 'đến', 'đời sống', 'mọi', 'người', 'dân', 'phải', 'oằn', 'mình', 'gánh chịu', 'thiệt hại', 'về', 'vật chất', 'tính mạng', 'là', 'vô cùng', 'lớn'] \n",
      "\n",
      "Những bông hoa, món quà nên dành gửi tặng cho đồng bào mất mát do dịch bệnh, những chiến sĩ áo trắng, lực lượng đi đầu trong phòng chống dịch bệnh.\n",
      "['những', 'bông hoa', 'món', 'quà', 'nên', 'dành', 'gửi', 'tặng', 'cho', 'đồng bào', 'mất mát', 'do', 'dịch bệnh', 'những', 'chiến sĩ', 'áo', 'trắng', 'lực lượng', 'đi đầu', 'trong', 'phòng chống', 'dịch bệnh'] \n",
      "\n",
      "Các trường không nên tổ chức kỷ niệm lớn hoặc liên hoan dưới bất kỳ hình thức nào đó chính là sự thể hiện lòng biết ơn thiết thực nhất nhân ngày Nhà giáo Việt Nam.\n",
      "['các', 'trường', 'không', 'nên', 'tổ chức', 'kỷ niệm', 'lớn', 'hoặc', 'liên hoan', 'dưới', 'bất', 'kỳ hình', 'thức', 'nào đó', 'chính', 'là', 'sự thể', 'hiện', 'lòng', 'biết ơn', 'thiết thực', 'nhất', 'nhân', 'ngày', 'nhà giáo', 'việt', 'nam'] \n",
      "\n",
      "Đây là năm đầu tiên mà nhiều sinh viên sư phạm trên cương vị mới là giáo viên nhận được sự tri ân từ học trò của mình.\n",
      "['đây', 'là', 'năm', 'đầu tiên', 'mà', 'nhiều', 'sinh viên', 'sư phạm', 'trên', 'cương vị', 'mới', 'là', 'giáo viên', 'nhận', 'được', 'sự', 'tri ân', 'từ học', 'trò', 'của', 'mình'] \n",
      "\n",
      "Trương Thị Vân Nhi (21 tuổi, ở Đồng Nai), giáo viên dạy nhạc tại Trường liên cấp Tuệ Đức (Q.2, TP.HCM) tất bật chuẩn bị cho ngày Nhà giáo Việt Nam 20.11.\n",
      "['trương', 'thị', 'vân', 'nhi', '21', 'tuổi', 'ở', 'đồng', 'nai', 'giáo viên', 'dạy', 'nhạc', 'tại', 'trường', 'liên', 'cấp', 'tuệ', 'đức', 'q', '2', 'tp', 'hcm', 'tất bật', 'chuẩn bị', 'cho', 'ngày', 'nhà giáo', 'việt', 'nam', '20', '11'] \n",
      "\n",
      "Tự mình chuẩn bị ngày lễ cho mình, Vân Nhi xem đó là kỷ niệm đáng nhớ, là bước ngoặt trong đời.\n",
      "['tự', 'mình', 'chuẩn bị', 'ngày lễ', 'cho', 'mình', 'vân', 'nhi', 'xem', 'đó', 'là', 'kỷ niệm', 'đáng', 'nhớ', 'là', 'bước ngoặt', 'trong', 'đời'] \n",
      "\n",
      "Là một giáo viên dạy nhạc, mình không mong các em sẽ tặng quà hay chuẩn bị cho mình một ngày 20.11 đáng nhớ, nhưng hiện tại mình đã nhận được rất nhiều lời chúc mừng và những phần quà nhỏ xinh như thiệp, tranh vẽ hay những quyển sổ.\n",
      "['là', 'một', 'giáo viên', 'dạy', 'nhạc', 'mình', 'không', 'mong', 'các', 'em', 'sẽ', 'tặng', 'quà', 'hay', 'chuẩn bị', 'cho', 'mình', 'một', 'ngày', '20', '11', 'đáng', 'nhớ', 'nhưng', 'hiện tại', 'mình', 'đã', 'nhận', 'được', 'rất', 'nhiều lời', 'chúc mừng', 'và', 'những', 'phần', 'quà', 'nhỏ', 'xinh', 'như', 'thiệp', 'tranh', 'vẽ', 'hay', 'những', 'quyển', 'sổ'] \n",
      "\n",
      "Cảm giác lạ lắm khi có người tặng quà dù không phải ngày sinh nhật”, Vân Nhi chia sẻ.\n",
      "['cảm giác', 'lạ', 'lắm', 'khi', 'có người', 'tặng', 'quà', 'dù', 'không phải', 'ngày sinh', 'nhật”', 'vân', 'nhi', 'chia sẻ'] \n",
      "\n"
     ]
    }
   ],
   "source": [
    "for ith, sentence in enumerate(sentences):\n",
    "    print(sentence)\n",
    "    print(sentences_tokenized[ith], \"\\n\")\n",
    "# for key in  sentences_tokenized.keys():\n",
    "#     print(sentences_tokenized[key])"
   ]
  },
  {
   "cell_type": "code",
   "execution_count": null,
   "metadata": {},
   "outputs": [],
   "source": []
  }
 ],
 "metadata": {
  "kernelspec": {
   "display_name": "Python 3",
   "language": "python",
   "name": "python3"
  },
  "language_info": {
   "codemirror_mode": {
    "name": "ipython",
    "version": 3
   },
   "file_extension": ".py",
   "mimetype": "text/x-python",
   "name": "python",
   "nbconvert_exporter": "python",
   "pygments_lexer": "ipython3",
   "version": "3.8.5"
  }
 },
 "nbformat": 4,
 "nbformat_minor": 4
}
