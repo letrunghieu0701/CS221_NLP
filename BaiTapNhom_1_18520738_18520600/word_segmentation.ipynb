{
 "cells": [
  {
   "cell_type": "code",
   "execution_count": 2,
   "metadata": {},
   "outputs": [
    {
     "name": "stdout",
     "output_type": "stream",
     "text": [
      "Collecting pyvi\n",
      "  Using cached pyvi-0.1.1-py2.py3-none-any.whl (8.5 MB)\n",
      "Collecting scikit-learn\n",
      "  Downloading scikit_learn-1.0.1-cp38-cp38-win_amd64.whl (7.2 MB)\n",
      "Collecting sklearn-crfsuite\n",
      "  Using cached sklearn_crfsuite-0.3.6-py2.py3-none-any.whl (12 kB)\n",
      "Collecting scipy>=1.1.0\n",
      "  Downloading scipy-1.7.2-cp38-cp38-win_amd64.whl (34.2 MB)\n",
      "Collecting joblib>=0.11\n",
      "  Downloading joblib-1.1.0-py2.py3-none-any.whl (306 kB)\n",
      "Collecting threadpoolctl>=2.0.0\n",
      "  Using cached threadpoolctl-3.0.0-py3-none-any.whl (14 kB)\n",
      "Requirement already satisfied: numpy>=1.14.6 in c:\\users\\diennguyen\\anaconda3\\lib\\site-packages (from scikit-learn->pyvi) (1.21.2)\n",
      "Requirement already satisfied: six in c:\\users\\diennguyen\\anaconda3\\lib\\site-packages (from sklearn-crfsuite->pyvi) (1.16.0)\n",
      "Collecting python-crfsuite>=0.8.3\n",
      "  Downloading python_crfsuite-0.9.7-cp38-cp38-win_amd64.whl (156 kB)\n",
      "Requirement already satisfied: tqdm>=2.0 in c:\\users\\diennguyen\\anaconda3\\lib\\site-packages (from sklearn-crfsuite->pyvi) (4.62.3)\n",
      "Collecting tabulate\n",
      "  Using cached tabulate-0.8.9-py3-none-any.whl (25 kB)\n",
      "Requirement already satisfied: colorama in c:\\users\\diennguyen\\anaconda3\\lib\\site-packages (from tqdm>=2.0->sklearn-crfsuite->pyvi) (0.4.4)\n",
      "Installing collected packages: threadpoolctl, tabulate, scipy, python-crfsuite, joblib, sklearn-crfsuite, scikit-learn, pyvi\n",
      "Successfully installed joblib-1.1.0 python-crfsuite-0.9.7 pyvi-0.1.1 scikit-learn-1.0.1 scipy-1.7.2 sklearn-crfsuite-0.3.6 tabulate-0.8.9 threadpoolctl-3.0.0\n"
     ]
    },
    {
     "name": "stderr",
     "output_type": "stream",
     "text": [
      "ERROR: pip's dependency resolver does not currently take into account all the packages that are installed. This behaviour is the source of the following dependency conflicts.\n",
      "keras 2.4.3 requires h5py, which is not installed.\n"
     ]
    }
   ],
   "source": [
    "!pip install pyvi\n"
   ]
  },
  {
   "cell_type": "code",
   "execution_count": 7,
   "metadata": {},
   "outputs": [],
   "source": [
    "from pyvi import ViTokenizer"
   ]
  },
  {
   "cell_type": "code",
   "execution_count": 8,
   "metadata": {},
   "outputs": [
    {
     "name": "stdout",
     "output_type": "stream",
     "text": [
      "['Ngày 16 / 11 , thông_tin từ Ban chỉ_đạo phòng_chống dịch Covid - 19 huyện Hải_Hậu , Nam_Định đã ghi_nhận tới 52 ca Covid - 19 cộng_đồng . \\n', 'Đến nay , lực_lượng chức_năng đã xác_định trên 600 F1 và hàng nghìn F2 liên_quan nhóm bệnh_nhân này . \\n', 'Dự_báo , số F0 tại xã Hải_Minh dự_kiến sẽ còn gia_tăng trong những ngày tới . \\n', 'Các bệnh_nhân trú tại 3 xóm ( xóm 34 , 35 và xóm Gò ) . Đến nay , lực_lượng chức_năng đã xác_định trên 600 F1 và hàng nghìn F2 liên_quan nhóm bệnh_nhân này . \\n', 'Ông Nguyễn Ngọc_Toàn , Tổng_Biên_tập Báo Thanh_Niên , trao thiết_bị hỗ_trợ học_tập và gửi_gắm nhiều niềm hy_vọng cho các em sẽ gặt_hái được nhiều thành_công học_tập \\n', '24 học_sinh nhận thiết_bị hỗ_trợ từ_chương_trình là 24 hoàn_cảnh khó_khăn khác nhau nhưng cùng chung ước_muốn được học trực_tuyến cùng thầy cô và bạn_bè \\n', 'Hay đó là Bùi_Gia_Phúc , học_sinh lớp 4 / 5 Trường Tiểu_học Trần_Văn_Ơn , ở với ông bà nội ngay khi mới chỉ một tháng tuổi . \\n', 'Thông_qua đó thêm một cơ_hội để các em vượt qua khó_khăn , thử_thách , vươn lên đạt kết_quả tốt nhất trong học_tập , đóng_góp cho tương_lai . \\n', 'Chương_trình sẽ là dịp để lan_tỏa và san_sẻ tình_yêu_thương trong đại_dịch . \\n', 'Ông Nguyễn_Xuân_Tiến , Ủy_viên Ban Thường_vụ , Trưởng ban Tuyên_giáo Quận_ủy , trao máy_tính bảng của chương_trình cho học_sinh \\n', 'Ông Nguyễn_Văn_Cường , Phó_Giám_đốc kinh_doanh FPT Shop vùng TP. HCM , phát_biểu tại chương_trình \\n', 'Trong chuyến thăm biệt_thự song lập mới hồi cuối tuần , Quốc_Cơ ngẫu_hứng diễn xiếc chồng tay với hai con tại tổ_hợp quảng_trường - bến du_thuyền Aqua_Marina . \\n', 'Bé Bắp dạn_dĩ hơn bạn_bè cùng lứa nhờ được bố luyện xiếc từ khi chưa đầy một tuổi . Hồng_Phượng và con_gái hai tuổi vỗ_tay cổ_vũ hai bố con . \\n', 'Quốc_Cơ cho hay : \" Người hào_hứng nhất là Bắp và Dâu . Sau bao ngày mới được đi chơi , mà còn được dạo chơi du_thuyền rất mát_mẻ , nên cả nhà rất thư_giãn và thích_thú \" . \\n', 'Đại_dịch khiến cả hai chú_trọng không_gian sống nhiều hơn . Trước_giãn cách , cả hai bận_rộn công_việc , chỉ về nhà khi chiều_tối . \\n', 'Từ đó gia_đình mới có thêm nhiều hoạt_động gắn_kết , nâng cao_giá_trị tinh_thần cho cả gia_đình \" . \\n', 'Hồng Phượng nói khi ngắm chồng_con chơi_đùa ngoài khuôn_viên biệt_thự song lập đảo Phượng_Hoàng . \\n', 'Tổ_hợp quảng_trường - bến du_thuyền đậm chất châu Âu Aqua Marina là một trong những điểm ấn_tượng nhất tại Aqua City \" , Hồng Phượng nói . \\n', 'Chúng_tôi cũng thích chuỗi cửa_hàng F & B bao quanh , sau những ngày đi quay vất_vả , cả nhà có_thể cùng thưởng_thức những món ngon giữa không_gian xanh mát . \\n', 'Nếu đại_gia_đình về sống tại Aqua City , mỗi lần đi diễn xa , tôi rất yên_tâm vì vợ_con và bố_mẹ có không_gian sống thoải_mái . \\n', 'Tháng 11 , khách_hàng có cơ_hội tham_quan trải nghiệm đô_thị sinh_thái thông_minh Aqua City bằng đường_sông . \\n', 'khách_hàng có cơ_hội nhận cặp voucher định_danh tổng_trị_giá 200 triệu đồng . \\n', 'Khoảng 14 giờ ngày 16.11 , giá vàng SJC tăng thêm 400.000 đồng mỗi lượng so với mở_cửa đầu ngày . \\n', 'Ngân_hàng TMCP xuất nhập_khẩu Việt_Nam ( Eximbank ) thay_đổi giá 17 lần chỉ trong 5 giờ giao_dịch \\n', 'Tốc_độ tăng_giá của vàng trong nước nhanh hơn so với quốc_tế khiến giá SJC đắt hơn lên 10 triệu đồng / lượng \\n', 'Nguyên_nhân khiến vàng trong nước tăng mạnh , theo Eximbank là do lực mua vàng nhỏ_lẻ trong ngày xuất_hiện nhiều hơn so với bán ra . \\n', 'âm lý người mua lo_ngại trước tình_trạng tăng_giá của vàng thế_giới . \\n', 'Thị_trường không có tình_trạng khan_hiếm vàng , nếu được giá thì có người bán ra nhưng do các đơn_vị kinh_doanh phải cân_đối được nguồn hàng nên giá hỏi qua hỏi lại cũng đã đẩy lên cao . \\n', 'Chương_trình đấu_giá số đẹp đuôi 2011 đang khiến cộng_đồng mạng vô_cùng tò_mò , xôn_xao . \\n', 'Nhưng khi biết ý_nghĩa ẩn sau đó , mọi người đều gật_gù công_nhận đây quả là món quà trân quý dành tặng thầy cô . \\n']\n"
     ]
    }
   ],
   "source": [
    "list_tokenized = []\n",
    "sentences= []\n",
    "with open('sample_sentences.txt', 'r', encoding='utf-8') as f:\n",
    "    lines = f.readlines()\n",
    "    for line in lines:\n",
    "        tokenized, _ = ViTokenizer.spacy_tokenize(line )\n",
    "        list_tokenized.append(tokenized)\n",
    "        sentences.append(ViTokenizer.tokenize(line))\n",
    "\n",
    "\n",
    "print(sentences)"
   ]
  },
  {
   "cell_type": "code",
   "execution_count": 9,
   "metadata": {},
   "outputs": [
    {
     "name": "stdout",
     "output_type": "stream",
     "text": [
      "[['Ngày', '16', '/', '11', ',', 'thông_tin', 'từ', 'Ban', 'chỉ_đạo', 'phòng_chống', 'dịch', 'Covid', '-', '19', 'huyện', 'Hải_Hậu', ',', 'Nam_Định', 'đã', 'ghi_nhận', 'tới', '52', 'ca', 'Covid', '-', '19', 'cộng_đồng', '.', '\\n'], ['Đến', 'nay', ',', 'lực_lượng', 'chức_năng', 'đã', 'xác_định', 'trên', '600', 'F1', 'và', 'hàng', 'nghìn', 'F2', 'liên_quan', 'nhóm', 'bệnh_nhân', 'này', '.', '\\n'], ['Dự_báo', ',', 'số', 'F0', 'tại', 'xã', 'Hải_Minh', 'dự_kiến', 'sẽ', 'còn', 'gia_tăng', 'trong', 'những', 'ngày', 'tới', '.', '\\n'], ['Các', 'bệnh_nhân', 'trú', 'tại', '3', 'xóm', '(', 'xóm', '34', ',', '35', 'và', 'xóm', 'Gò', ')', '.', 'Đến', 'nay', ',', 'lực_lượng', 'chức_năng', 'đã', 'xác_định', 'trên', '600', 'F1', 'và', 'hàng', 'nghìn', 'F2', 'liên_quan', 'nhóm', 'bệnh_nhân', 'này', '.', '\\n'], ['Ông', 'Nguyễn', 'Ngọc_Toàn', ',', 'Tổng_Biên_tập', 'Báo', 'Thanh_Niên', ',', 'trao', 'thiết_bị', 'hỗ_trợ', 'học_tập', 'và', 'gửi_gắm', 'nhiều', 'niềm', 'hy_vọng', 'cho', 'các', 'em', 'sẽ', 'gặt_hái', 'được', 'nhiều', 'thành_công', 'học_tập', '\\n'], ['24', 'học_sinh', 'nhận', 'thiết_bị', 'hỗ_trợ', 'từ_chương_trình', 'là', '24', 'hoàn_cảnh', 'khó_khăn', 'khác', 'nhau', 'nhưng', 'cùng', 'chung', 'ước_muốn', 'được', 'học', 'trực_tuyến', 'cùng', 'thầy', 'cô', 'và', 'bạn_bè', '\\n'], ['Hay', 'đó', 'là', 'Bùi_Gia_Phúc', ',', 'học_sinh', 'lớp', '4', '/', '5', 'Trường', 'Tiểu_học', 'Trần_Văn_Ơn', ',', 'ở', 'với', 'ông', 'bà', 'nội', 'ngay', 'khi', 'mới', 'chỉ', 'một', 'tháng', 'tuổi', '.', '\\n'], ['Thông_qua', 'đó', 'thêm', 'một', 'cơ_hội', 'để', 'các', 'em', 'vượt', 'qua', 'khó_khăn', ',', 'thử_thách', ',', 'vươn', 'lên', 'đạt', 'kết_quả', 'tốt', 'nhất', 'trong', 'học_tập', ',', 'đóng_góp', 'cho', 'tương_lai', '.', '\\n'], ['Chương_trình', 'sẽ', 'là', 'dịp', 'để', 'lan_tỏa', 'và', 'san_sẻ', 'tình_yêu_thương', 'trong', 'đại_dịch', '.', '\\n'], ['Ông', 'Nguyễn_Xuân_Tiến', ',', 'Ủy_viên', 'Ban', 'Thường_vụ', ',', 'Trưởng', 'ban', 'Tuyên_giáo', 'Quận_ủy', ',', 'trao', 'máy_tính', 'bảng', 'của', 'chương_trình', 'cho', 'học_sinh', '\\n'], ['Ông', 'Nguyễn_Văn_Cường', ',', 'Phó_Giám_đốc', 'kinh_doanh', 'FPT', 'Shop', 'vùng', 'TP.', 'HCM', ',', 'phát_biểu', 'tại', 'chương_trình', '\\n'], ['Trong', 'chuyến', 'thăm', 'biệt_thự', 'song', 'lập', 'mới', 'hồi', 'cuối', 'tuần', ',', 'Quốc_Cơ', 'ngẫu_hứng', 'diễn', 'xiếc', 'chồng', 'tay', 'với', 'hai', 'con', 'tại', 'tổ_hợp', 'quảng_trường', '-', 'bến', 'du_thuyền', 'Aqua_Marina', '.', '\\n'], ['Bé', 'Bắp', 'dạn_dĩ', 'hơn', 'bạn_bè', 'cùng', 'lứa', 'nhờ', 'được', 'bố', 'luyện', 'xiếc', 'từ', 'khi', 'chưa', 'đầy', 'một', 'tuổi', '.', 'Hồng_Phượng', 'và', 'con_gái', 'hai', 'tuổi', 'vỗ_tay', 'cổ_vũ', 'hai', 'bố', 'con', '.', '\\n'], ['Quốc_Cơ', 'cho', 'hay', ':', '\"', 'Người', 'hào_hứng', 'nhất', 'là', 'Bắp', 'và', 'Dâu', '.', 'Sau', 'bao', 'ngày', 'mới', 'được', 'đi', 'chơi', ',', 'mà', 'còn', 'được', 'dạo', 'chơi', 'du_thuyền', 'rất', 'mát_mẻ', ',', 'nên', 'cả', 'nhà', 'rất', 'thư_giãn', 'và', 'thích_thú', '\"', '.', '\\n'], ['Đại_dịch', 'khiến', 'cả', 'hai', 'chú_trọng', 'không_gian', 'sống', 'nhiều', 'hơn', '.', 'Trước_giãn', 'cách', ',', 'cả', 'hai', 'bận_rộn', 'công_việc', ',', 'chỉ', 'về', 'nhà', 'khi', 'chiều_tối', '.', '\\n'], ['Từ', 'đó', 'gia_đình', 'mới', 'có', 'thêm', 'nhiều', 'hoạt_động', 'gắn_kết', ',', 'nâng', 'cao_giá_trị', 'tinh_thần', 'cho', 'cả', 'gia_đình', '\"', '.', '\\n'], ['Hồng', 'Phượng', 'nói', 'khi', 'ngắm', 'chồng_con', 'chơi_đùa', 'ngoài', 'khuôn_viên', 'biệt_thự', 'song', 'lập', 'đảo', 'Phượng_Hoàng', '.', '\\n'], ['Tổ_hợp', 'quảng_trường', '-', 'bến', 'du_thuyền', 'đậm', 'chất', 'châu', 'Âu', 'Aqua', 'Marina', 'là', 'một', 'trong', 'những', 'điểm', 'ấn_tượng', 'nhất', 'tại', 'Aqua', 'City', '\"', ',', 'Hồng', 'Phượng', 'nói', '.', '\\n'], ['Chúng_tôi', 'cũng', 'thích', 'chuỗi', 'cửa_hàng', 'F', '&', 'B', 'bao', 'quanh', ',', 'sau', 'những', 'ngày', 'đi', 'quay', 'vất_vả', ',', 'cả', 'nhà', 'có_thể', 'cùng', 'thưởng_thức', 'những', 'món', 'ngon', 'giữa', 'không_gian', 'xanh', 'mát', '.', '\\n'], ['Nếu', 'đại_gia_đình', 'về', 'sống', 'tại', 'Aqua', 'City', ',', 'mỗi', 'lần', 'đi', 'diễn', 'xa', ',', 'tôi', 'rất', 'yên_tâm', 'vì', 'vợ_con', 'và', 'bố_mẹ', 'có', 'không_gian', 'sống', 'thoải_mái', '.', '\\n'], ['Tháng', '11', ',', 'khách_hàng', 'có', 'cơ_hội', 'tham_quan', 'trải', 'nghiệm', 'đô_thị', 'sinh_thái', 'thông_minh', 'Aqua', 'City', 'bằng', 'đường_sông', '.', '\\n'], ['khách_hàng', 'có', 'cơ_hội', 'nhận', 'cặp', 'voucher', 'định_danh', 'tổng_trị_giá', '200', 'triệu', 'đồng', '.', '\\n'], ['Khoảng', '14', 'giờ', 'ngày', '16.11', ',', 'giá', 'vàng', 'SJC', 'tăng', 'thêm', '400.000', 'đồng', 'mỗi', 'lượng', 'so', 'với', 'mở_cửa', 'đầu', 'ngày', '.', '\\n'], ['Ngân_hàng', 'TMCP', 'xuất', 'nhập_khẩu', 'Việt_Nam', '(', 'Eximbank', ')', 'thay_đổi', 'giá', '17', 'lần', 'chỉ', 'trong', '5', 'giờ', 'giao_dịch', '\\n'], ['Tốc_độ', 'tăng_giá', 'của', 'vàng', 'trong', 'nước', 'nhanh', 'hơn', 'so', 'với', 'quốc_tế', 'khiến', 'giá', 'SJC', 'đắt', 'hơn', 'lên', '10', 'triệu', 'đồng', '/', 'lượng', '\\n'], ['Nguyên_nhân', 'khiến', 'vàng', 'trong', 'nước', 'tăng', 'mạnh', ',', 'theo', 'Eximbank', 'là', 'do', 'lực', 'mua', 'vàng', 'nhỏ_lẻ', 'trong', 'ngày', 'xuất_hiện', 'nhiều', 'hơn', 'so', 'với', 'bán', 'ra', '.', '\\n'], ['âm', 'lý', 'người', 'mua', 'lo_ngại', 'trước', 'tình_trạng', 'tăng_giá', 'của', 'vàng', 'thế_giới', '.', '\\n'], ['Thị_trường', 'không', 'có', 'tình_trạng', 'khan_hiếm', 'vàng', ',', 'nếu', 'được', 'giá', 'thì', 'có', 'người', 'bán', 'ra', 'nhưng', 'do', 'các', 'đơn_vị', 'kinh_doanh', 'phải', 'cân_đối', 'được', 'nguồn', 'hàng', 'nên', 'giá', 'hỏi', 'qua', 'hỏi', 'lại', 'cũng', 'đã', 'đẩy', 'lên', 'cao', '.', '\\n'], ['Chương_trình', 'đấu_giá', 'số', 'đẹp', 'đuôi', '2011', 'đang', 'khiến', 'cộng_đồng', 'mạng', 'vô_cùng', 'tò_mò', ',', 'xôn_xao', '.', '\\n'], ['Nhưng', 'khi', 'biết', 'ý_nghĩa', 'ẩn', 'sau', 'đó', ',', 'mọi', 'người', 'đều', 'gật_gù', 'công_nhận', 'đây', 'quả', 'là', 'món', 'quà', 'trân', 'quý', 'dành', 'tặng', 'thầy', 'cô', '.', '\\n']]\n"
     ]
    }
   ],
   "source": [
    "print(list_tokenized)"
   ]
  },
  {
   "cell_type": "code",
   "execution_count": 10,
   "metadata": {},
   "outputs": [],
   "source": [
    "with open('sentences_with_underscore.txt', 'w', encoding='utf-8') as f:\n",
    "    for sentence in sentences:\n",
    "        f.write(sentence)"
   ]
  },
  {
   "cell_type": "code",
   "execution_count": 11,
   "metadata": {},
   "outputs": [],
   "source": [
    "# Thống kê các từ ghép và đếm số từ có trong câu \n",
    "dic = {}\n",
    "for e in list_tokenized:\n",
    "    for word in e: \n",
    "        if '_' in word: \n",
    "            word = word.lower()\n",
    "            if word in dic:\n",
    "                dic[word] +=1 \n",
    "            else:\n",
    "                dic[word] = 1 \n",
    "# Ghi ra file \n",
    "with open('word_freq.txt', 'w', encoding='utf-8') as f:\n",
    "     for key, value in dic.items():\n",
    "        f.write(key.replace('_',' ') + \" \" + str(value) + \"\\n\")"
   ]
  }
 ],
 "metadata": {
  "kernelspec": {
   "display_name": "Python 3",
   "language": "python",
   "name": "python3"
  },
  "language_info": {
   "codemirror_mode": {
    "name": "ipython",
    "version": 3
   },
   "file_extension": ".py",
   "mimetype": "text/x-python",
   "name": "python",
   "nbconvert_exporter": "python",
   "pygments_lexer": "ipython3",
   "version": "3.8.5"
  }
 },
 "nbformat": 4,
 "nbformat_minor": 5
}
