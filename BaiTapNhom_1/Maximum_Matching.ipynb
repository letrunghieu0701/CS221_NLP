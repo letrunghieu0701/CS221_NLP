{
 "cells": [
  {
   "cell_type": "code",
   "execution_count": 1,
   "metadata": {},
   "outputs": [],
   "source": [
    "import re\n",
    "import string\n",
    "from nltk.tokenize import WhitespaceTokenizer "
   ]
  },
  {
   "cell_type": "code",
   "execution_count": 2,
   "metadata": {},
   "outputs": [],
   "source": [
    "white_space_tokenizer = WhitespaceTokenizer()"
   ]
  },
  {
   "cell_type": "code",
   "execution_count": 3,
   "metadata": {},
   "outputs": [],
   "source": [
    "file_name_5_sentences = \"data_5_cau_tieng_Viet.txt\"\n",
    "file_name_40_sentences = \"data_40_cau_tieng_Viet.txt\"\n",
    "\n",
    "file_name_dictionary = \"Viet74K.txt\""
   ]
  },
  {
   "cell_type": "markdown",
   "metadata": {},
   "source": [
    "**Load data**"
   ]
  },
  {
   "cell_type": "code",
   "execution_count": 4,
   "metadata": {},
   "outputs": [
    {
     "name": "stdout",
     "output_type": "stream",
     "text": [
      "Number of senteces in data: 40\n"
     ]
    }
   ],
   "source": [
    "sentences = list()\n",
    "\n",
    "with open(file_name_40_sentences, \"r\", encoding='utf-8') as f:\n",
    "    content = f.readlines()\n",
    "    f.close()\n",
    "\n",
    "    for i in range(len(content)):\n",
    "        sentence = content[i]\n",
    "        sentences.append(sentence)\n",
    "        \n",
    "print(\"Number of senteces in data:\", len(sentences))"
   ]
  },
  {
   "cell_type": "markdown",
   "metadata": {},
   "source": [
    "**Load dictionary: Vietnamese**"
   ]
  },
  {
   "cell_type": "code",
   "execution_count": 5,
   "metadata": {},
   "outputs": [
    {
     "name": "stdout",
     "output_type": "stream",
     "text": [
      "Number of terms in dictionary: 73901\n"
     ]
    }
   ],
   "source": [
    "dictionary_corpus = list()\n",
    "\n",
    "with open(file_name_dictionary, \"r\", encoding='utf-8') as f:\n",
    "    content = f.readlines()\n",
    "    f.close()\n",
    "\n",
    "    for i in range(len(content)):\n",
    "        term = content[i].strip().lower()\n",
    "        dictionary_corpus.append(term)\n",
    "        \n",
    "dictionary_corpus\n",
    "\n",
    "print(\"Number of terms in dictionary:\", len(dictionary_corpus))"
   ]
  },
  {
   "cell_type": "markdown",
   "metadata": {},
   "source": [
    "**Maximum Matching**"
   ]
  },
  {
   "cell_type": "code",
   "execution_count": 6,
   "metadata": {},
   "outputs": [],
   "source": [
    "def PreprocessString(string_data):\n",
    "    # Lower the text\n",
    "    preprocess_data = string_data.lower()\n",
    "    \n",
    "    # Remove punctuations, each punctuation = space, ex: \"\"information @#$retrieval\" -> \"information    retrieval\"\n",
    "    preprocess_data = re.sub('[%s]' % re.escape(string.punctuation), ' ', preprocess_data)   \n",
    "        \n",
    "    # Tokenize word by white space\n",
    "    preprocess_data = white_space_tokenizer.tokenize(preprocess_data)\n",
    "      \n",
    "    return preprocess_data"
   ]
  },
  {
   "cell_type": "code",
   "execution_count": 7,
   "metadata": {},
   "outputs": [],
   "source": [
    "def GetTerm(sentence_tokenized, start_index, end_index):\n",
    "    term = \"\"\n",
    "    for i in range(start_index, end_index):\n",
    "        term += sentence_tokenized[i] + \" \"\n",
    "    \n",
    "    return term.strip()"
   ]
  },
  {
   "cell_type": "code",
   "execution_count": 8,
   "metadata": {},
   "outputs": [],
   "source": [
    "LEN_MAX_TERM_VIETNAMESE = 4\n",
    "\n",
    "sentences_tokenized = dict()\n",
    "\n",
    "for ith_sentence, sentence in enumerate(sentences):\n",
    "    \"\"\" Hiện tại thì chỗ này xét cả câu luôn, về sau sẽ nâng cấp lên thành xét các vế trong câu \"\"\"\n",
    "    sentence_part_tokenzied = PreprocessString(sentence)\n",
    "    \n",
    "    ith_start_term = 0\n",
    "    if len(sentence_part_tokenzied) > LEN_MAX_TERM_VIETNAMESE:\n",
    "        ith_end_term = ith_start_term + LEN_MAX_TERM_VIETNAMESE\n",
    "    else:\n",
    "        ith_end_term = len(sentence_part_tokenzied)\n",
    "        \n",
    "    term = GetTerm(sentence_part_tokenzied, ith_start_term, ith_end_term)\n",
    "    \n",
    "    # Xét hết cả vế\n",
    "    while True:\n",
    "        \n",
    "        # Xét hết cả term\n",
    "        while ith_start_term != ith_end_term:\n",
    "            if term in dictionary_corpus:\n",
    "                \n",
    "                if ith_sentence not in sentences_tokenized.keys():\n",
    "                    sentences_tokenized[ith_sentence] = [term]\n",
    "                else:\n",
    "                    sentences_tokenized[ith_sentence].append(term)\n",
    "#                 print(\"Trùng được term:\", term)\n",
    "                    \n",
    "                break\n",
    "            else:\n",
    "#                 print(\"không trùng term nào cả, term:\", term)\n",
    "                ith_end_term -= 1\n",
    "                term = GetTerm(sentence_part_tokenzied, ith_start_term, ith_end_term)\n",
    "\n",
    "        # Đã xét xong term cuối cùng thì chuyển sang câu (vế) khác\n",
    "        if ith_end_term == len(sentence_part_tokenzied):\n",
    "            break\n",
    "        # Nếu vẫn còn term để xét thì chuyển sang term kế tiếp\n",
    "        else:\n",
    "            # Đề phòng trường hợp term không có trong dictionary thì end sẽ tiến về và bằng start, và sẽ gây ra vòng lặp vô tận\n",
    "            # nếu cứ gắn start bằng lại end (giá trị start ban đầu) và cộng end = start + LEN_MAX_TERM_VIETNAMESE\n",
    "            # vd: term = \"2 mũi vaccine cơ\", start = 16, end = 20, chữ \"2\" không có trong dictionary nên sẽ khiến end bị trừ\n",
    "            # thành 16 (bằng với start), và nếu không có điều kiện kiểm tra \"ith_start_term == ith_end_term\" thì sẽ khiến\n",
    "            # start và end trở lại như cũ (16 và 20), vì ở đây gán start = end và đoạn bên dưới gán end = start + LEN_MAX_TERM_VIETNAMESE\n",
    "            if ith_start_term == ith_end_term:\n",
    "                ith_start_term = ith_end_term + 1\n",
    "            else:\n",
    "                ith_start_term = ith_end_term\n",
    "                \n",
    "            # Nếu vẫn còn nhiều hơn 4 term để xét thì chuyển sang 4 term kế tiếp\n",
    "            if len(sentence_part_tokenzied) - ith_end_term > LEN_MAX_TERM_VIETNAMESE:\n",
    "                ith_end_term = ith_start_term + LEN_MAX_TERM_VIETNAMESE\n",
    "            # Nếu chỉ còn nhiều nhất là 4 term thì lấy ra những term cuối cùng của vế để xét\n",
    "            else:\n",
    "                ith_end_term = len(sentence_part_tokenzied)\n",
    "                \n",
    "            term = GetTerm(sentence_part_tokenzied, ith_start_term, ith_end_term)"
   ]
  },
  {
   "cell_type": "code",
   "execution_count": 9,
   "metadata": {},
   "outputs": [
    {
     "name": "stdout",
     "output_type": "stream",
     "text": [
      "['tính từ', 'giữa', 'tháng', 'đến nay', 'đây', 'là', 'ngày', 'thứ hai', 'liên tiếp', 'số', 'ca', 'mắc', 'mới', 'trong', 'ngày', 'của', 'nước', 'ta', 'vượt', 'ngưỡng']\n",
      "['một', 'cán bộ', 'công an', 'huyện', 'lâm', 'hà', 'lâm', 'đồng', 'dùng', 'súng', 'bắn', 'đạn', 'cao su', 'đe dọa', 'nữ nhân', 'viên', 'y tế', 'khi', 'bị', 'nhắc nhở', 'mang', 'khẩu trang']\n",
      "['khán giả', 'trung', 'quốc thể', 'hiện', 'sự', 'bất bình', 'khi', 'nhà', 'sản xuất', 'sử dụng', 'quá đà', 'các', 'bộ', 'lọc', 'hiệu ứng', 'chỉnh', 'sửa', 'khiến', 'hình ảnh', 'trong', 'phim', 'kém', 'chân thật']\n",
      "['mâu thuẫn', 'khi', 'trao đổi', 'qua', 'mạng', 'xã hội', 'nữ sinh', 'ở', 'phú', 'quốc', 'hẹn', 'vào', 'khu', 'dân cư', 'để', 'đánh nhau']\n",
      "['sau', 'khi', 'đánh', 'bất tỉnh', 'nạn nhân', 'phán', 'bỏ trốn', 'và', 'bị', 'bắt', 'tại', 'quận', 'đống', 'đa', 'hà nội']\n",
      "['tại', 'trụ sở', 'điều tra', 'nghi', 'phạm', 'khai', 'thời điểm', 'gây án', 'anh', 'ta', 'đang', 'say']\n",
      "['nàng thơ', 'của', 'nhà', 'thiết kế', 'chính', 'là', 'nguồn', 'cảm hứng', 'để', 'nuôi dưỡng', 'sự', 'sáng tạo', 'cho', 'những', 'bộ', 'trang phục', 'mang', 'tính', 'biểu tượng']\n",
      "['sở', 'công thương', 'đưa ra', 'đề xuất', 'trên', 'với', 'điều kiện', 'khách hàng', 'phải', 'tiêm', 'đủ', 'mũi', 'cơ sở', 'kinh doanh', 'hoạt động', 'tối đa', 'công suất', 'và', 'đóng cửa', 'trước', 'hàng ngày']\n",
      "['luật', 'mới', 'ở', 'bồ đào', 'nha', 'giúp', 'đảm bảo', 'quyền', 'được', 'nghỉ ngơi', 'của', 'người', 'lao động']\n",
      "['các', 'công ty', 'quấy rầy', 'sự', 'riêng tư', 'của', 'nhân viên', 'và', 'gia đình', 'của', 'họ', 'sau', 'giờ', 'làm', 'sẽ', 'bị', 'xử phạt']\n",
      "['vệ tinh', 'là', 'phát kiến', 'công nghệ', 'đầy', 'hứa hẹn', 'ngày càng', 'nóng', 'lên', 'với', 'sự', 'tham gia', 'của', 'cùng', 'nhiều', 'tập đoàn', 'công nghệ', 'của', 'trung', 'quốc']\n",
      "['dù', 'vậy', 'các', 'chuyên gia', 'công nghệ', 'cho rằng', 'khái niệm', 'này', 'sẽ', 'không', 'thực tế', 'đối với', 'mọi', 'người', 'và', 'mọi', 'nơi']\n",
      "['công nghệ', 'không phải', 'là', 'vấn đề', 'duy nhất', 'khiến', 'nhiều', 'người', 'không', 'tiếp cận', 'được']\n",
      "['thượng', 'hiện', 'vận hành', 'hệ thống', 'tàu', 'đệm', 'từ', 'thương mại', 'duy nhất', 'trên', 'thế giới', 'trên', 'quãng', 'đường dài', 'km']\n",
      "['một', 'đoàn', 'tàu', 'có thể', 'đạt', 'vận tốc', 'km', 'h', 'trong', 'phút', 'và', 'tốc độ', 'hoạt động', 'tối đa', 'có thể', 'đạt', 'được', 'là', 'km', 'h']\n",
      "['chính phủ', 'đức', 'cùng với', 'một số', 'công ty', 'đức', 'đã', 'tìm', 'cách', 'giành', 'được', 'nhiều', 'dự án', 'hơn', 'cho', 'công nghệ', 'đệm', 'từ', 'của', 'họ', 'và', 'nhấn mạnh', 'rằng', 'một', 'chuyến', 'tàu', 'giữa', 'thượng', 'và', 'thủ đô', 'trung', 'quốc', 'bắc', 'kinh', 'vẫn', 'là', 'một', 'dự án', 'khả thi']\n",
      "['các', 'thực phẩm', 'quan trọng', 'như', 'thịt', 'bò thịt', 'lợn thịt', 'gà', 'sữa', 'trứng', 'và', 'đường', 'đều', 'tăng giá', 'mạnh', 'ảnh hưởng', 'nghiêm trọng', 'tới', 'túi tiền', 'của', 'người', 'tiêu dùng', 'mỹ']\n",
      "['thịt', 'gà', 'sữa', 'trứng', 'đường', 'và', 'cà phê', 'là', 'các', 'sản phẩm', 'chứng kiến', 'mức', 'tăng giá', 'lớn', 'theo', 'dữ liệu', 'của', 'cục', 'thống kê', 'lao động', 'mỹ']\n",
      "['giá', 'thực phẩm', 'tăng', 'đã', 'góp phần', 'làm', 'lạm phát', 'ở', 'mỹ', 'tăng', 'mạnh', 'nhất', 'trong', 'gần', 'năm']\n",
      "['thứ', 'nhất là', 'cung cầu', 'thị trường', 'được', 'biểu hiện', 'qua', 'số lượng', 'bất động sản', 'được', 'chào', 'bán', 'trên', 'thị trường', 'bao gồm', 'cả', 'sơ cấp', 'và', 'thứ cấp', 'và', 'nhu cầu', 'đi', 'liền', 'với', 'khả năng', 'tài chính', 'của', 'người', 'dân', 'các', 'nhà', 'đầu tư', 'trong', 'thời kỳ', 'đó']\n",
      "['và', 'nguồn', 'cầu', 'cũng', 'cần', 'được', 'đánh giá', 'từ', 'nhiều', 'nhóm', 'đối tượng', 'khác nhau', 'như', 'người', 'mua', 'nhà', 'để', 'ở', 'để cho', 'thuê', 'hay', 'các', 'nhà', 'đầu tư', 'lướt', 'sóng', 'các', 'nhà', 'đầu tư', 'mua', 'nhà', 'cũ', 'xây', 'lại', 'và', 'bán']\n",
      "['trước', 'sự', 'lây nhiễm', 'nhanh', 'phức tạp', 'khó', 'lường', 'của', 'chủng', 'virus', 'delta', 'và', 'là', 'địa bàn', 'có', 'đặc thù', 'dân số', 'lớn', 'mật độ', 'dân cư', 'cao', 'có', 'những', 'đặc điểm', 'không', 'có', 'thuận lợi', 'như', 'các', 'địa phương', 'khác', 'làm cho', 'công tác', 'phòng chống', 'dịch', 'tại', 'luôn', 'có', 'những', 'khó khăn', 'trong', 'thời gian', 'qua']\n",
      "['vì thế', 'tổng bí thư', 'nhận xét', 'những', 'nỗ lực', 'của', 'đảng bộ', 'chính quyền', 'và', 'nhân dân', 'có thể', 'ghi nhận', 'là', 'những', 'kết quả', 'rất', 'quan trọng', 'đáng', 'được', 'hoan nghênh']\n",
      "['nhiều', 'bức', 'thư từ', 'đại sứ', 'trung', 'quốc', 'ở', 'gửi', 'tới', 'lãnh đạo', 'doanh nghiệp', 'để', 'thúc ép', 'họ', 'vận động', 'các', 'nghị sĩ', 'thay đổi', 'hoặc', 'bỏ', 'một số', 'dự luật', 'cụ thể', 'nhằm', 'tăng', 'khả năng', 'cạnh tranh', 'của', 'mỹ', 'dẫn', 'các', 'nguồn tin', 'và', 'nội dung', 'bức', 'thư', 'của', 'phòng', 'kinh tế', 'và', 'thương mại', 'thuộc', 'đại sứ quán', 'trung', 'quốc', 'gửi', 'đi', 'cho biết']\n",
      "['các', 'nguồn tin', 'nói', 'rằng', 'yêu cầu', 'của', 'trung', 'quốc', 'khiến', 'một số', 'người', 'nhận', 'được', 'thư', 'lo ngại', 'rằng', 'họ', 'có thể', 'bị', 'cho là', 'vi phạm', 'đạo luật', 'đăng ký', 'hoạt động', 'ở', 'nước ngoài', 'fara', 'nếu', 'họ', 'vận động', 'các', 'nghị sĩ', 'trong', 'những', 'vấn đề', 'như vậy']\n",
      "['những', 'dự luật', 'đó', 'đưa ra', 'quan điểm', 'cứng rắn', 'với', 'trung', 'quốc', 'trong', 'các', 'vấn đề', 'thương mại', 'và', 'nhân quyền', 'bắc', 'kinh', 'coi', 'đó', 'là', 'một', 'phần', 'trong', 'nỗ lực', 'của', 'mỹ', 'nhằm', 'kiềm chế', 'sức mạnh', 'kinh tế', 'và', 'địa chính trị', 'ngày càng', 'gia tăng', 'của', 'mình']\n",
      "['bộ trưởng', 'y tế', 'được', 'giao', 'xử lý', 'kiến nghị', 'của', 'đại biểu', 'quốc hội', 'tp', 'về', 'việc', 'lô', 'sữa', 'cứu trợ', 'về', 'gần', 'một', 'tháng', 'nhưng', 'không', 'lấy', 'ra', 'được']\n",
      "['trước', 'đó', 'khi', 'nhắc', 'đến', 'trách nhiệm', 'của', 'các', 'đơn vị', 'tham mưu', 'trong', 'thời kỳ', 'nước sôi lửa bỏng', 'khi', 'phòng chống', 'dịch', 'đại biểu', 'tô', 'thị', 'bích', 'châu', 'cho rằng', 'phải', 'làm sao', 'để', 'thấy', 'được', 'trách nhiệm', 'của', 'các', 'cơ quan', 'trong', 'việc', 'này']\n",
      "['từ đó', 'nữ', 'đại biểu', 'mong', 'chính phủ', 'tạo', 'ra', 'cơ chế', 'hành chính', 'thực sự', 'thông thoáng', 'quy', 'được', 'trách nhiệm', 'của', 'từng', 'bộ', 'ngành', 'và', 'từng', 'cán bộ', 'trong', 'việc', 'tham mưu', 'để', 'cần', 'nhờ vả', 'quen biết', 'mà', 'việc', 'vẫn']\n",
      "['dành', 'hơn', 'phút', 'trong', 'phiên', 'chất vấn', 'sáng', 'để', 'báo cáo', 'giải trình', 'rõ', 'những', 'nội dung', 'đại biểu', 'quốc hội', 'quan tâm', 'thủ tướng', 'phạm', 'minh', 'chính đề', 'cập', 'đến', 'nhiều', 'nội dung', 'kế hoạch', 'liên quan', 'tới', 'tình hình', 'dịch']\n",
      "['đồng tình', 'với', 'ý kiến', 'của', 'nhiều', 'đại biểu', 'quốc hội', 'về', 'việc', 'học', 'trực tuyến', 'không thể', 'kéo dài', 'thủ tướng', 'yêu cầu', 'bộ', 'giáo dục', 'và', 'đào tạo', 'phối hợp', 'với', 'bộ', 'y tế', 'khẩn trương', 'xây dựng', 'kế hoạch', 'với', 'lộ trình', 'và', 'phương án', 'cụ thể', 'để', 'từng', 'bước', 'mở cửa', 'lại', 'trường học', 'trong', 'năm']\n",
      "['báo cáo', 'về', 'định hướng', 'chiến lược', 'tổng thể', 'phòng chống', 'dịch', 'thủ tướng', 'khẳng định', 'chiến lược', 'thích ứng', 'an toàn', 'linh hoạt', 'kiểm soát', 'hiệu quả', 'dịch', 'nêu', 'trong', 'nghị quyết', 'của', 'chính phủ', 'là', 'phù hợp', 'kịp thời']\n",
      "['cùng với', 'việc', 'khẩn trương', 'hoàn thiện', 'trình', 'cấp', 'có', 'thẩm quyền', 'chiến lược', 'tổng thể', 'phòng chống', 'dịch', 'người', 'đứng đầu', 'chính phủ', 'yêu cầu', 'chuyển đổi', 'tư duy', 'phương pháp', 'từ', 'quản lý', 'không', 'zero', 'sang', 'quản lý', 'rủi ro', 'giảm thiểu', 'tử vong', 'thực hiện', 'tốt', 'quy định', 'thích ứng', 'an toàn', 'linh hoạt', 'kiểm soát', 'hiệu quả', 'dịch']\n",
      "['nghiên cứu', 'cho', 'thấy', 'cứ', 'người', 'chưa', 'tiêm', 'thì', 'gần', 'người', 'nằm', 'phòng', 'hồi sức', 'tích cực', 'hoặc', 'tử vong', 'do', 'con số', 'này', 'ở', 'người', 'đã', 'tiêm chủng', 'đầy đủ', 'chưa', 'tới', 'một']\n",
      "['kết quả', 'mới', 'đã', 'bổ sung', 'vào', 'bằng chứng', 'cho', 'thấy', 'hiệu quả', 'của', 'trong', 'việc', 'chống lại', 'bệnh', 'trở', 'nặng', 'và', 'tử vong', 'do', 'vẫn', 'được', 'duy trì', 'ngay cả', 'khi', 'kháng thể', 'bảo vệ', 'bị', 'suy yếu', 'theo thời', 'gian', 'dẫn', 'đến', 'các', 'ca', 'nhiễm', 'đột phá']\n",
      "['các', 'kết quả', 'như vậy', 'có thể', 'củng cố', 'dự đoán', 'ở', 'một số', 'quốc gia', 'sẽ', 'trở thành', 'bệnh', 'đặc hữu', 'trong', 'tương lai', 'vì', 'chúng', 'chỉ', 'gây', 'ra', 'bệnh', 'nhẹ', 'với', 'đối tượng', 'đã', 'tiêm chủng']\n",
      "['việc', 'tiêm chủng', 'hàng loạt', 'giúp', 'giảm bớt', 'áp lực', 'mà', 'gây', 'ra', 'cho', 'các', 'hệ thống', 'y tế', 'địa phương', 'và', 'ngăn ngừa', 'bệnh viện', 'quá tải']\n",
      "['cuộc', 'khảo sát', 'cũng', 'cho', 'ra', 'kết quả', 'về', 'tiêu chí', 'hàng đầu', 'mà', 'người', 'lao động', 'thế hệ', 'mới', 'mong muốn', 'ở', 'nhà', 'tuyển dụng', 'tôn trọng', 'nhân viên', 'giữ', 'đúng', 'cam kết', 'trả', 'lương', 'phù hợp', 'với', 'công sức', 'và', 'chia sẻ', 'cơ hội', 'một cách', 'bình đẳng', 'trong', 'tập thể']\n",
      "['những', 'phát hiện', 'này', 'đã', 'nhấn mạnh', 'sự', 'thay đổi', 'về', 'cơ cấu', 'đang', 'diễn', 'ra', 'trong', 'lực lượng', 'lao động', 'trung', 'quốc', 'đặc biệt', 'trong', 'bối cảnh', 'nền', 'kinh tế', 'quốc gia', 'này', 'đang', 'phát triển', 'và', 'tạo', 'ra', 'số lượng', 'nghề nghiệp', 'gia tăng', 'nhiều', 'lần', 'so với', 'trước đây']\n",
      "['cũng', 'theo', 'tiến sĩ', 'chen', 'gen', 'z', 'lý trí', 'hơn', 'trong', 'công việc', 'họ', 'không', 'muốn', 'làm', 'thêm', 'giờ', 'hoặc', 'nỗ lực', 'mà', 'không', 'được', 'trả', 'thêm', 'tiền']\n"
     ]
    }
   ],
   "source": [
    "for key in  sentences_tokenized.keys():\n",
    "    print(sentences_tokenized[key])"
   ]
  },
  {
   "cell_type": "code",
   "execution_count": null,
   "metadata": {},
   "outputs": [],
   "source": []
  }
 ],
 "metadata": {
  "kernelspec": {
   "display_name": "Python 3",
   "language": "python",
   "name": "python3"
  },
  "language_info": {
   "codemirror_mode": {
    "name": "ipython",
    "version": 3
   },
   "file_extension": ".py",
   "mimetype": "text/x-python",
   "name": "python",
   "nbconvert_exporter": "python",
   "pygments_lexer": "ipython3",
   "version": "3.8.5"
  }
 },
 "nbformat": 4,
 "nbformat_minor": 4
}
