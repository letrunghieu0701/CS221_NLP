{
 "cells": [
  {
   "cell_type": "code",
   "execution_count": 4,
   "metadata": {},
   "outputs": [],
   "source": [
    "import nltk\n",
    "from nltk.corpus import treebank\n",
    "from nltk.probability import LaplaceProbDist, WittenBellProbDist\n",
    "from nltk.tag.hmm import HiddenMarkovModelTrainer"
   ]
  },
  {
   "cell_type": "code",
   "execution_count": 5,
   "metadata": {},
   "outputs": [],
   "source": [
    "tagged_sents = treebank.tagged_sents()\n",
    "\n",
    "train_data = tagged_sents[0:3000]\n",
    "test_data = tagged_sents[3000:]"
   ]
  },
  {
   "cell_type": "code",
   "execution_count": 3,
   "metadata": {},
   "outputs": [],
   "source": [
    "trainer = HiddenMarkovModelTrainer()"
   ]
  },
  {
   "cell_type": "code",
   "execution_count": 6,
   "metadata": {},
   "outputs": [],
   "source": [
    "tagger = trainer.train_supervised(train_data,\n",
    "                                 estimator=LaplaceProbDist)"
   ]
  },
  {
   "cell_type": "code",
   "execution_count": 7,
   "metadata": {},
   "outputs": [
    {
     "data": {
      "text/plain": [
       "0.8843906026241437"
      ]
     },
     "execution_count": 7,
     "metadata": {},
     "output_type": "execute_result"
    }
   ],
   "source": [
    "tagger.evaluate(train_data)"
   ]
  },
  {
   "cell_type": "code",
   "execution_count": 8,
   "metadata": {},
   "outputs": [
    {
     "data": {
      "text/plain": [
       "0.8444636304770128"
      ]
     },
     "execution_count": 8,
     "metadata": {},
     "output_type": "execute_result"
    }
   ],
   "source": [
    "tagger.evaluate(test_data)"
   ]
  },
  {
   "cell_type": "code",
   "execution_count": 9,
   "metadata": {},
   "outputs": [],
   "source": [
    "tagger_witten = trainer.train_supervised(train_data,\n",
    "                                 estimator=WittenBellProbDist)"
   ]
  },
  {
   "cell_type": "code",
   "execution_count": 11,
   "metadata": {},
   "outputs": [
    {
     "data": {
      "text/plain": [
       "0.9677594147927391"
      ]
     },
     "execution_count": 11,
     "metadata": {},
     "output_type": "execute_result"
    }
   ],
   "source": [
    "tagger_witten.evaluate(train_data)"
   ]
  },
  {
   "cell_type": "code",
   "execution_count": 12,
   "metadata": {},
   "outputs": [
    {
     "data": {
      "text/plain": [
       "0.9192747679689186"
      ]
     },
     "execution_count": 12,
     "metadata": {},
     "output_type": "execute_result"
    }
   ],
   "source": [
    "tagger_witten.evaluate(test_data)"
   ]
  },
  {
   "cell_type": "code",
   "execution_count": 13,
   "metadata": {},
   "outputs": [],
   "source": [
    "def get_text(sent):\n",
    "    words = [item[0] for item in sent]\n",
    "    return \" \".join(words)\n",
    "\n",
    "def get_pos(sent):\n",
    "    words = [item[1] for item in sent]\n",
    "    return \" \".join(words)"
   ]
  },
  {
   "cell_type": "code",
   "execution_count": 15,
   "metadata": {},
   "outputs": [
    {
     "data": {
      "text/plain": [
       "[('At', 'IN'),\n",
       " ('Tokyo', 'NNP'),\n",
       " (',', ','),\n",
       " ('the', 'DT'),\n",
       " ('Nikkei', 'JJ'),\n",
       " ('index', 'NN'),\n",
       " ('of', 'IN'),\n",
       " ('225', 'CD'),\n",
       " ('selected', 'CD'),\n",
       " ('issues', 'NNS'),\n",
       " (',', ','),\n",
       " ('which', 'WDT'),\n",
       " ('*T*-1', '-NONE-'),\n",
       " ('gained', 'VBD'),\n",
       " ('132', 'NNP'),\n",
       " ('points', 'NNP'),\n",
       " ('Tuesday', 'NNP'),\n",
       " (',', ','),\n",
       " ('added', 'VBD'),\n",
       " ('14.99', 'JJ'),\n",
       " ('points', 'NNS'),\n",
       " ('to', 'TO'),\n",
       " ('35564.43', 'VB'),\n",
       " ('.', '.')]"
      ]
     },
     "execution_count": 15,
     "metadata": {},
     "output_type": "execute_result"
    }
   ],
   "source": [
    "s = get_text(test_data[0]).split()\n",
    "tagger_witten.tag(s)"
   ]
  },
  {
   "cell_type": "code",
   "execution_count": 19,
   "metadata": {},
   "outputs": [],
   "source": [
    "from nltk.tag.crf import CRFTagger\n",
    "import pycrfsuite\n",
    "crf_tagger = CRFTagger()\n",
    "crf_tagger.train(train_data, 'tmp.mdl')"
   ]
  },
  {
   "cell_type": "code",
   "execution_count": 20,
   "metadata": {},
   "outputs": [
    {
     "data": {
      "text/plain": [
       "0.959244494329837"
      ]
     },
     "execution_count": 20,
     "metadata": {},
     "output_type": "execute_result"
    }
   ],
   "source": [
    "crf_tagger.evaluate(train_data)"
   ]
  },
  {
   "cell_type": "code",
   "execution_count": 21,
   "metadata": {},
   "outputs": [
    {
     "data": {
      "text/plain": [
       "0.9474638463198791"
      ]
     },
     "execution_count": 21,
     "metadata": {},
     "output_type": "execute_result"
    }
   ],
   "source": [
    "crf_tagger.evaluate(test_data)"
   ]
  },
  {
   "cell_type": "code",
   "execution_count": 22,
   "metadata": {},
   "outputs": [
    {
     "data": {
      "text/plain": [
       "[('At', 'IN'),\n",
       " ('Tokyo', 'NNP'),\n",
       " (',', ','),\n",
       " ('the', 'DT'),\n",
       " ('Nikkei', 'NNP'),\n",
       " ('index', 'NN'),\n",
       " ('of', 'IN'),\n",
       " ('225', 'CD'),\n",
       " ('selected', 'JJ'),\n",
       " ('issues', 'NNS'),\n",
       " (',', ','),\n",
       " ('which', 'WDT'),\n",
       " ('*T*-1', '-NONE-'),\n",
       " ('gained', 'VBN'),\n",
       " ('132', '-NONE-'),\n",
       " ('points', 'VBZ'),\n",
       " ('Tuesday', 'NNP'),\n",
       " (',', ','),\n",
       " ('added', 'VBD'),\n",
       " ('14.99', 'CD'),\n",
       " ('points', 'NNS'),\n",
       " ('to', 'TO'),\n",
       " ('35564.43', 'CD'),\n",
       " ('.', '.')]"
      ]
     },
     "execution_count": 22,
     "metadata": {},
     "output_type": "execute_result"
    }
   ],
   "source": [
    "crf_tagger.tag(s)"
   ]
  },
  {
   "cell_type": "code",
   "execution_count": null,
   "metadata": {},
   "outputs": [],
   "source": [
    "train_data_small = [[('tính', 'N'), ('tốt', 'A')],\n",
    "                   [('tính', 'V'), ('nhanh', 'N')],\n",
    "                   [('rèn', 'V'), ('tính', 'V')]]\n",
    "\n",
    "crf_tagger.train(train_data_small, 'tmp.mdl')"
   ]
  }
 ],
 "metadata": {
  "kernelspec": {
   "display_name": "Python 3",
   "language": "python",
   "name": "python3"
  },
  "language_info": {
   "codemirror_mode": {
    "name": "ipython",
    "version": 3
   },
   "file_extension": ".py",
   "mimetype": "text/x-python",
   "name": "python",
   "nbconvert_exporter": "python",
   "pygments_lexer": "ipython3",
   "version": "3.8.5"
  }
 },
 "nbformat": 4,
 "nbformat_minor": 4
}
